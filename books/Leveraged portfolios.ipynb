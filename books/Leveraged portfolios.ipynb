{
 "cells": [
  {
   "cell_type": "code",
   "execution_count": 7,
   "metadata": {
    "collapsed": false,
    "slideshow": {
     "slide_type": "slide"
    }
   },
   "outputs": [
    {
     "name": "stdout",
     "output_type": "stream",
     "text": [
      "Update ConfigManager\n"
     ]
    }
   ],
   "source": [
    "import talk.config as con\n",
    "\n",
    "# environment variable for MOSEK\n",
    "con.config_configManager()\n",
    "con.config_matplotlib()"
   ]
  },
  {
   "cell_type": "markdown",
   "metadata": {
    "slideshow": {
     "slide_type": "slide"
    }
   },
   "source": [
    "Leveraged Portfolios\n",
    "---------------------\n",
    "https://en.wikipedia.org/wiki/130%E2%80%9330_fund\n",
    "\n",
    "#### Thomas Schmelzer"
   ]
  },
  {
   "cell_type": "markdown",
   "metadata": {
    "slideshow": {
     "slide_type": "slide"
    }
   },
   "source": [
    "### A 130/30 Equity Portfolio\n",
    "\n",
    "- Allocate capital $C=1$. Sell short at most $c = 0.3$ to finance a long position of $1 + c$. \n",
    "- Universe of $n$ assets."
   ]
  },
  {
   "cell_type": "markdown",
   "metadata": {
    "slideshow": {
     "slide_type": "slide"
    }
   },
   "source": [
    "\\begin{align}\\mathbf{x}^{*}=\\arg\\max_{\\mathbf{x} \\in \\mathbb{R}^n}& \\mu^{T}\\mathbf{x}\\\\\n",
    "\\text{s.t. } &\\Sigma\\,x_i=1\\\\\n",
    "             &\\Sigma\\,\\lvert x_i\\rvert \\leq 1 + 2c\\\\\n",
    "             &\\sqrt{\\mathbf{x}^T\\mathbf{C}\\mathbf{x}} \\leq \\sigma_{\\max}\n",
    "\\end{align}"
   ]
  },
  {
   "cell_type": "markdown",
   "metadata": {
    "slideshow": {
     "slide_type": "slide"
    }
   },
   "source": [
    "### Cholesky decomposition of the covariance matrix:\n",
    "$$\\sqrt{\\mathbf{x}^T\\mathbf{C}\\mathbf{x}}=\\sqrt{\\mathbf{x}^T\\mathbf{G G}^T\\mathbf{x}}=\\rVert{\\mathbf{G}^T\\mathbf{x}}\\lVert_2$$\n",
    "Introduce the cone $[y, G^T x] \\in \\mathcal{Q}_{n+1}$.\n"
   ]
  },
  {
   "cell_type": "markdown",
   "metadata": {
    "slideshow": {
     "slide_type": "slide"
    }
   },
   "source": [
    "### The absolute value:\n",
    "$$\\lvert{x_i}\\rvert=\\sqrt{x_i^2}=\\rVert{x_i}\\lVert_2$$\n",
    "The sum of absolute values (e.g. the $1$-norm) is replaced by $n$ cones of dimension $2$, e.g.\n",
    "$[t_i, x_i] \\in \\mathcal{Q}_2$. Now\n",
    "$$\\Sigma\\,t_i \\leq 1 + 2c$$ implies $$\\Sigma\\,\\lvert x_i\\rvert \\leq 1 + 2c$$"
   ]
  },
  {
   "cell_type": "markdown",
   "metadata": {
    "slideshow": {
     "slide_type": "slide"
    }
   },
   "source": [
    "\\begin{align}\\mathbf{x}^{*}=\\arg\\max_{\\mathbf{x} \\in \\mathbb{R}^n}& \\mu^{T}\\mathbf{x}\\\\\n",
    "\\text{s.t. } &\\Sigma\\,x_i=1\\\\\n",
    "             &\\Sigma\\, t_i \\leq 1 + 2c\\\\\n",
    "             &[y, G^T x] \\in \\mathcal{Q}_{n+1}\\\\\n",
    "             &y \\leq \\sigma_{\\max}\\\\\n",
    "             &[t_i, x_i] \\in \\mathcal{Q}_2,\\,\\,i \\in [1,\\ldots,n]\n",
    "\\end{align}\n"
   ]
  },
  {
   "cell_type": "code",
   "execution_count": 8,
   "metadata": {
    "collapsed": false,
    "slideshow": {
     "slide_type": "slide"
    }
   },
   "outputs": [
    {
     "name": "stdout",
     "output_type": "stream",
     "text": [
      "Sum of positive weights: 1.300000041390767\n",
      "Sum of negative weights: -0.30000004711145856\n",
      "Sum of all weights:      0.9999999942793083\n"
     ]
    }
   ],
   "source": [
    "from mosek.fusion import Model, Matrix, Domain, Expr, ObjectiveSense\n",
    "import numpy as np\n",
    "# make some random data, e.g. cov-matrix and expected returns\n",
    "n = 100\n",
    "c = 0.9\n",
    "C = c * np.ones((n, n)) + (1 - c) * np.eye(n)\n",
    "mu = 0.05 * np.sin(range(0, n))\n",
    "# maximal volatility and leverage...\n",
    "sigma_max = 1.0\n",
    "excess = 0.3\n",
    "\n",
    "def __abs(model, v):\n",
    "    t = model.variable(int(v.size()), Domain.greaterThan(0.0))\n",
    "    model.constraint(Expr.hstack(t, v), Domain.inQCone(int(v.size()), 2))\n",
    "    return t\n",
    "\n",
    "\n",
    "def __two_norm(model, v):\n",
    "    t = model.variable(1, Domain.greaterThan(0.0))\n",
    "    model.constraint(Expr.vstack(t, v), Domain.inQCone())\n",
    "    return t\n",
    "\n",
    "    \n",
    "def __one_norm(model, v):\n",
    "    return Expr.sum(__abs(model, v))\n",
    "\n",
    "\n",
    "with Model('equity') as model:\n",
    "    w = model.variable(\"w\", mu.size, Domain.unbounded())\n",
    "    \n",
    "    # sum w_i = 1\n",
    "    model.constraint(Expr.sum(w), Domain.equalsTo(1.0))\n",
    "\n",
    "    # sum abs(w_i) <= 1 + 2*excess\n",
    "    model.constraint(__one_norm(model, w), Domain.lessThan(1.0 + 2 * excess))\n",
    "\n",
    "    # Norm(G^T*w) <= sigma_max \n",
    "    y = __two_norm(model, Expr.mul(Matrix.dense(np.transpose(np.linalg.cholesky(C))), w))\n",
    "    model.constraint(y, Domain.lessThan(sigma_max))\n",
    "\n",
    "    # maximize objective mu'w\n",
    "    model.objective(ObjectiveSense.Maximize, Expr.dot(mu, w)), model.solve()\n",
    "    f = np.array(w.level())\n",
    "\n",
    "print(\"Sum of positive weights: {0}\".format(np.sum(f[f > 0])))\n",
    "print(\"Sum of negative weights: {0}\".format(np.sum(f[f < 0])))\n",
    "print(\"Sum of all weights:      {0}\".format(np.sum(f)))"
   ]
  },
  {
   "cell_type": "markdown",
   "metadata": {
    "slideshow": {
     "slide_type": "slide"
    }
   },
   "source": [
    "### Summary\n",
    "\n",
    "- Leverage is here a constraint for the $1$-norm of the weight vector.\n",
    "\n",
    "\n",
    "- We replace the $1$-norm of a vector of length $n$ with $n$ cones each of dimension $2$.\n",
    "\n",
    "\n",
    "- We compute the Cholesky decomposition of a $n \\times n$ covariance matrix to introduce a cone of dimension $n + 1$."
   ]
  }
 ],
 "metadata": {
  "celltoolbar": "Slideshow",
  "kernelspec": {
   "display_name": "Python 3",
   "language": "python",
   "name": "python3"
  },
  "language_info": {
   "codemirror_mode": {
    "name": "ipython",
    "version": 3
   },
   "file_extension": ".py",
   "mimetype": "text/x-python",
   "name": "python",
   "nbconvert_exporter": "python",
   "pygments_lexer": "ipython3",
   "version": "3.5.2"
  }
 },
 "nbformat": 4,
 "nbformat_minor": 0
}
