{
 "cells": [
  {
   "cell_type": "code",
   "execution_count": 1,
   "metadata": {
    "collapsed": false,
    "slideshow": {
     "slide_type": "slide"
    }
   },
   "outputs": [
    {
     "name": "stderr",
     "output_type": "stream",
     "text": [
      "/opt/conda/lib/python3.5/site-packages/matplotlib/font_manager.py:273: UserWarning: Matplotlib is building the font cache using fc-list. This may take a moment.\n",
      "  warnings.warn('Matplotlib is building the font cache using fc-list. This may take a moment.')\n",
      "/opt/conda/lib/python3.5/site-packages/matplotlib/font_manager.py:273: UserWarning: Matplotlib is building the font cache using fc-list. This may take a moment.\n",
      "  warnings.warn('Matplotlib is building the font cache using fc-list. This may take a moment.')\n"
     ]
    }
   ],
   "source": [
    "import talk.config as con\n",
    "\n",
    "# environment variable for MOSEK\n",
    "con.config_configManager()\n",
    "con.config_matplotlib()"
   ]
  },
  {
   "cell_type": "markdown",
   "metadata": {
    "nbpresent": {
     "id": "3a2fcb64-33c2-49c0-9144-c40161169c52"
    },
    "slideshow": {
     "slide_type": "slide"
    }
   },
   "source": [
    "# Regression\n",
    "### Thomas Schmelzer"
   ]
  },
  {
   "cell_type": "markdown",
   "metadata": {
    "collapsed": false,
    "nbpresent": {
     "id": "582ce9cb-19bb-4e12-be1a-70d8e9f8fe08"
    },
    "slideshow": {
     "slide_type": "slide"
    }
   },
   "source": [
    "# Linear Regression\n",
    "\n",
    "Let $\\mathbf{A} \\in \\mathbb{R}^{n \\times m}$ and $\\mathbf{b} \\in \\mathbb{R}^n$. Solve the unconstrained least squares problem: \n",
    "\n",
    "\\begin{align}\n",
    "\\mathbf{x}^{*}=\\arg\\min_{\\mathbf{x} \\in \\mathbb{R}^m}& \\rVert{\\mathbf{A}\\mathbf{x}-\\mathbf{b}}\\lVert_2\n",
    "\\end{align}\n",
    "\n",
    "The $i$th column of $\\mathbf{A}$ may represent the time series of returns for asset $i$. \n",
    "\n",
    "Portfolio Optimisation is about all about clever (linear) combination of assets. \n",
    "\n"
   ]
  },
  {
   "cell_type": "markdown",
   "metadata": {
    "collapsed": true,
    "slideshow": {
     "slide_type": "slide"
    }
   },
   "source": [
    "# Examples:\n",
    "- Tracking an index (index in $\\mathbf{b}$, assets in $\\mathbf{A}$)\n",
    "- Constructing an indicator, factor analyis, ...\n",
    "- Approximation...\n",
    "- ...\n",
    "\n",
    "Regression is the **Swiss army knife** of professional quant finance. "
   ]
  },
  {
   "cell_type": "markdown",
   "metadata": {
    "collapsed": false,
    "slideshow": {
     "slide_type": "slide"
    }
   },
   "source": [
    "# The normal equations\n",
    "\n",
    "As we (probably) all know \n",
    "\n",
    "$$\n",
    "\\mathbf{x}^{*}=\\left(\\mathbf{A}^T \\mathbf{A}\\right)^{-1}\\mathbf{A}^{T}\\mathbf{x}\n",
    "$$\n",
    "solves\n",
    "\\begin{align}\\mathbf{x}^{*}=\\arg\\min_{\\mathbf{x} \\in \\mathbb{R}^m}& \\rVert{\\mathbf{A}\\mathbf{x}-\\mathbf{b}}\\lVert_2\n",
    "\\end{align}\n",
    "\n",
    "You may see here already\n",
    " + The matrix $\\mathbf{A}^T \\mathbf{A}$ is a scaled covariance matrix (if the columns of $\\mathbf{A}$ are centered). Run into problems with small eigenvalues here...\n",
    " \n",
    "**Nerd alarm**: Being a numerical analyst I recommend to use the SVD or QR-decomposition to solve the unconstrained least squares problem.\n"
   ]
  },
  {
   "cell_type": "markdown",
   "metadata": {
    "collapsed": true,
    "slideshow": {
     "slide_type": "slide"
    }
   },
   "source": [
    "# Constrained regression\n",
    "\n",
    "Let $\\mathbf{A} \\in \\mathbb{R}^{n \\times m}$ and $\\mathbf{b} \\in \\mathbb{R}^n$. We solve the constrained least squares problem: \n",
    "\n",
    "\\begin{align}\\mathbf{x}^{*}=\\arg\\min_{\\mathbf{x} \\in \\mathbb{R}^m}& \\rVert{\\mathbf{A}\\mathbf{x}-\\mathbf{b}}\\lVert_2\\\\\n",
    "\\text{s.t. } &\\Sigma\\,x_i=1\\\\\n",
    "            &\\mathbf{x}\\geq 0\n",
    "\\end{align}"
   ]
  },
  {
   "cell_type": "markdown",
   "metadata": {
    "collapsed": true,
    "slideshow": {
     "slide_type": "slide"
    }
   },
   "source": [
    "# The Sculptor method \n",
    "<div>\n",
    "<img src=\"talk/thales.jpg\" style=\"margin-left:auto; margin-right:auto; display:block\">\n",
    "Thales of Miletus (c. 624 BC -  c. 546 BC)\n",
    "</div>"
   ]
  },
  {
   "cell_type": "markdown",
   "metadata": {
    "collapsed": false,
    "slideshow": {
     "slide_type": "slide"
    }
   },
   "source": [
    "Shall we apply the sculptor method?\n",
    "- We could delete the negative entries (really bad if they are all negative)\n",
    "- We could scale the surviving entries to enforce the $\\Sigma\\,x_i=1$.\n",
    "\n",
    "Done?"
   ]
  },
  {
   "cell_type": "markdown",
   "metadata": {
    "collapsed": false,
    "slideshow": {
     "slide_type": "slide"
    }
   },
   "source": [
    "<div>\n",
    "<img src=\"talk/cone.png\" style=\"margin-left:auto; margin-right:auto; display:block\">\n",
    "$$y \\geq \\sqrt{x_1^2 + x_2^2}=\\rVert{\\mathbf{x}}\\lVert_2$$\n",
    "</div>"
   ]
  },
  {
   "cell_type": "markdown",
   "metadata": {
    "collapsed": true,
    "slideshow": {
     "slide_type": "slide"
    }
   },
   "source": [
    "# Conic Programming\n",
    "\n",
    "We introduce an auxiliary scalar $z$:\n",
    "    \n",
    "\\begin{align}\\min_{z \\in \\mathbb{R}, \\mathbf{x} \\in \\mathbb{R}^m} & z\\\\\n",
    "\\text{s.t. }&z \\geq \\rVert{\\mathbf{A}\\mathbf{x}-\\mathbf{b}}\\lVert_2\\\\\n",
    "            &\\Sigma\\,x_i=1\\\\\n",
    "            &\\mathbf{x}\\geq 0\n",
    "\\end{align}\n"
   ]
  },
  {
   "cell_type": "markdown",
   "metadata": {
    "slideshow": {
     "slide_type": "subslide"
    }
   },
   "source": [
    "We introduce an auxiliary vector $\\mathbf{y} \\in \\mathbb{R}^n$:\n",
    "\n",
    "\\begin{align}\\min_{z \\in \\mathbb{R}, \\mathbf{x} \\in \\mathbb{R}^m, \\mathbf{y} \\in \\mathbb{R}^n} & z\\\\\n",
    "\\text{s.t. }&z \\geq \\rVert{y}\\lVert_2\\\\\n",
    "            &\\mathbf{y} = \\mathbf{A}\\mathbf{x}-\\mathbf{b}\\\\\n",
    "            &\\Sigma\\,x_i=1\\\\\n",
    "            &\\mathbf{x}\\geq 0\n",
    "\\end{align}\n",
    "\n",
    "We **lifted** the problem from a $m$ dimensional space into a $m + n + 1$ dimensional space. \n",
    "\n",
    "**Nerd alarm**: $$z \\geq \\rVert{y}\\lVert_2 \\,\\Leftrightarrow\\, [z,y] \\in \\mathcal{Q}_{n+1}$$"
   ]
  },
  {
   "cell_type": "markdown",
   "metadata": {
    "collapsed": true,
    "slideshow": {
     "slide_type": "slide"
    }
   },
   "source": [
    "# Application: Implementing a minimum variance portfolio\n",
    "The $i$th column of $\\mathbf{A}$ is the time series of returns for the $i$th asset.\n",
    "Hence to minimize the variance of a portfolio (a linear combination of assets) we solve:\n",
    "\n",
    "\\begin{align}\\mathbf{w}^{*}=\\arg\\min_{\\mathbf{w} \\in \\mathbb{R}^m}& \\rVert{\\mathbf{A}\\mathbf{w}-\\mathbf{0}}\\lVert_2\\\\\n",
    "\\text{s.t. } &\\Sigma\\,w_i=1\\\\\n",
    "            &\\mathbf{w}\\geq 0\n",
    "\\end{align}\n",
    "\n",
    "**Nerd alarm**: This is strictly speaking not a Minimum Variance portfolio as we use squared deviations from $0$ rather than from the mean.  "
   ]
  },
  {
   "cell_type": "code",
   "execution_count": 2,
   "metadata": {
    "collapsed": true,
    "slideshow": {
     "slide_type": "slide"
    }
   },
   "outputs": [],
   "source": [
    "from mosek.fusion import Expr, Domain, Model, Matrix, ObjectiveSense\n",
    "import numpy as np\n",
    "\n",
    "def __two_norm(model, v):\n",
    "    t = model.variable(1, Domain.greaterThan(0.0))\n",
    "    model.constraint(Expr.vstack(t, v), Domain.inQCone())\n",
    "    return t\n",
    "\n",
    "def min_var(matrix, lamb=0.0):\n",
    "    \"\"\"\n",
    "    min 2-norm (matrix*w) - lamb*2-norm(w)\n",
    "    s.t. e'w = 1, w >= 0\n",
    "    \"\"\"\n",
    "    # define model\n",
    "    model = Model('lsqPos')\n",
    "    \n",
    "    # introduce non-negative weight variables\n",
    "    w = model.variable(\"w\", int(matrix.shape[1]), Domain.inRange(0.0, 1.0))\n",
    "       \n",
    "    # e'*w = 1\n",
    "    model.constraint(Expr.sum(w), Domain.equalsTo(1.0))\n",
    "    \n",
    "    # introduce the cones\n",
    "    z = __two_norm(model, Expr.mul(Matrix.dense(matrix), w))\n",
    "    t = __two_norm(model, w)\n",
    "\n",
    "    # minimization of the residual\n",
    "    model.objective(ObjectiveSense.Minimize, Expr.add(z, Expr.mul(t, lamb)))\n",
    "    model.solve()\n",
    "\n",
    "    return np.array(w.level())"
   ]
  },
  {
   "cell_type": "code",
   "execution_count": 3,
   "metadata": {
    "collapsed": false,
    "slideshow": {
     "slide_type": "slide"
    }
   },
   "outputs": [
    {
     "data": {
      "image/png": "[encoded data removed]",
      "text/plain": [
       "<matplotlib.figure.Figure at 0x7f5f3c14be80>"
      ]
     },
     "metadata": {},
     "output_type": "display_data"
    }
   ],
   "source": [
    "import matplotlib.pyplot as plt\n",
    "import numpy as np\n",
    "\n",
    "\n",
    "def plot(ax, data, width=0.35, title=\"\"):\n",
    "    ax.bar(np.arange(5)+1-width, data, 2*width)\n",
    "    ax.set_ylabel(\"Weight\"), ax.set_xlabel(\"index\"), ax.set_title(title)\n",
    "    ax.set_ylim([0,1])\n",
    "    return ax\n",
    "    \n",
    "random_data = np.dot(np.random.randn(250,5), np.diag([1,2,3,4,5]))\n",
    "data = min_var(random_data)\n",
    "\n",
    "fig, ax = plt.subplots()\n",
    "plot(ax, data)\n",
    "plt.show()"
   ]
  },
  {
   "cell_type": "markdown",
   "metadata": {
    "collapsed": true,
    "slideshow": {
     "slide_type": "slide"
    }
   },
   "source": [
    "# Balance?\n",
    "\n",
    "- Bounds\n",
    "- **Tikhonov regularization** (penalty by the $2$-norm of the weights in the objective), also known as **Ridge Regression** or **Shrinkage to the mean**\n",
    " \n",
    "\n",
    "\\begin{align}\\mathbf{w}^{*}=\\arg\\min_{\\mathbf{w} \\in \\mathbb{R}^m}& \\rVert{\\mathbf{A}\\mathbf{w}}\\lVert_2 + \\lambda \\rVert{\\mathbf{w}}\\lVert_2\\\\\n",
    "\\text{s.t. } &\\Sigma\\,w_i=1\\\\\n",
    "            &\\mathbf{w}\\geq 0\n",
    "\\end{align}\n",
    "\n",
    "- The $1/N$ portfolio is the limit for $\\lambda \\to \\infty$\n"
   ]
  },
  {
   "cell_type": "code",
   "execution_count": 4,
   "metadata": {
    "collapsed": false,
    "slideshow": {
     "slide_type": "slide"
    }
   },
   "outputs": [
    {
     "data": {
      "image/png": "[encoded data removed]",
      "text/plain": [
       "<matplotlib.figure.Figure at 0x7f5f3c14b748>"
      ]
     },
     "metadata": {},
     "output_type": "display_data"
    }
   ],
   "source": [
    "f, axs = plt.subplots(1,2,figsize=(25,10))\n",
    "plot(axs[0], data=min_var(random_data, lamb=0), title=\"0\")\n",
    "plot(axs[1], data=min_var(random_data, lamb=10), title=\"10\")\n",
    "plt.show()"
   ]
  },
  {
   "cell_type": "code",
   "execution_count": 5,
   "metadata": {
    "collapsed": false,
    "slideshow": {
     "slide_type": "slide"
    }
   },
   "outputs": [
    {
     "data": {
      "image/png": "[encoded data removed]",
      "text/plain": [
       "<matplotlib.figure.Figure at 0x7f5f3c14b1d0>"
      ]
     },
     "metadata": {},
     "output_type": "display_data"
    }
   ],
   "source": [
    "f, axs = plt.subplots(1,2,figsize=(25,10))\n",
    "plot(axs[0], data=min_var(random_data, lamb=20), title=\"20\")\n",
    "plot(axs[1], data=min_var(random_data, lamb=50), title=\"50\")\n",
    "plt.show()"
   ]
  },
  {
   "cell_type": "code",
   "execution_count": 6,
   "metadata": {
    "collapsed": false,
    "slideshow": {
     "slide_type": "slide"
    }
   },
   "outputs": [
    {
     "data": {
      "image/png": "[encoded data removed]",
      "text/plain": [
       "<matplotlib.figure.Figure at 0x7f5f30a0f8d0>"
      ]
     },
     "metadata": {},
     "output_type": "display_data"
    }
   ],
   "source": [
    "f, axs = plt.subplots(1,2,figsize=(25,10))\n",
    "plot(axs[0], data=min_var(random_data, lamb=100), title=\"100\")\n",
    "plot(axs[1], data=min_var(random_data, lamb=200), title=\"200\")\n",
    "plt.show()"
   ]
  },
  {
   "cell_type": "markdown",
   "metadata": {
    "slideshow": {
     "slide_type": "slide"
    }
   },
   "source": [
    "# Summary\n",
    "\n",
    "- We solved a constrained least squares problem by introducing $n + 1$ additional dimensions ($n$ is the number of rows in the problem).\n",
    "\n",
    "- We introduced a quadratric cone living in the new dimensions.\n",
    "\n",
    "- We constructed a minimum variance portfolio.\n",
    "\n",
    "- Using Tikhonov regularization we can interpolate between the Minimum Variance portfolio and the $1/N$ portfolio.\n",
    "\n",
    "**Recommended read**: Regression techniques for Portfolio Optimisation using MOSEK, Schmelzer et al., see https://arxiv.org/abs/1310.3397\n"
   ]
  }
 ],
 "metadata": {
  "anaconda-cloud": {},
  "celltoolbar": "Slideshow",
  "kernelspec": {
   "display_name": "Python 3",
   "language": "python",
   "name": "python3"
  },
  "language_info": {
   "codemirror_mode": {
    "name": "ipython",
    "version": 3
   },
   "file_extension": ".py",
   "mimetype": "text/x-python",
   "name": "python",
   "nbconvert_exporter": "python",
   "pygments_lexer": "ipython3",
   "version": "3.5.2"
  },
  "nbpresent": {
   "slides": {
    "570b4fdd-7ac7-439c-af3c-d65248da2f7b": {
     "id": "570b4fdd-7ac7-439c-af3c-d65248da2f7b",
     "prev": "5ca99397-6686-4cda-afd7-9a111cd1bbc4",
     "regions": {
      "0b15fedb-077f-404a-856f-abaecd9bad61": {
       "attrs": {
        "height": 1,
        "width": 1,
        "x": 0,
        "y": 0
       },
       "content": {
        "cell": "582ce9cb-19bb-4e12-be1a-70d8e9f8fe08",
        "part": "whole"
       },
       "id": "0b15fedb-077f-404a-856f-abaecd9bad61"
      }
     }
    },
    "57cf8f6b-31bf-4366-91d7-9f224d5aa4cc": {
     "id": "57cf8f6b-31bf-4366-91d7-9f224d5aa4cc",
     "prev": null,
     "regions": {
      "4122bb08-79f8-443b-a51c-46a8312940a2": {
       "attrs": {
        "height": 1,
        "width": 1,
        "x": 0,
        "y": 0
       },
       "content": {
        "cell": "3a2fcb64-33c2-49c0-9144-c40161169c52",
        "part": "whole"
       },
       "id": "4122bb08-79f8-443b-a51c-46a8312940a2"
      }
     }
    },
    "5a9563fa-a493-439c-b777-5778da00087e": {
     "id": "5a9563fa-a493-439c-b777-5778da00087e",
     "prev": "b199d567-d2dd-4c54-8bb2-68d6b2bf1c97",
     "regions": {
      "b065c4ff-953b-4710-a5ee-162f2bd7dfd5": {
       "attrs": {
        "height": 1,
        "width": 1,
        "x": 0,
        "y": 0
       },
       "content": {
        "cell": "7d9c1abb-dff1-40cb-832f-77acd569949c",
        "part": "whole"
       },
       "id": "b065c4ff-953b-4710-a5ee-162f2bd7dfd5"
      }
     }
    },
    "5ca99397-6686-4cda-afd7-9a111cd1bbc4": {
     "id": "5ca99397-6686-4cda-afd7-9a111cd1bbc4",
     "prev": "57cf8f6b-31bf-4366-91d7-9f224d5aa4cc",
     "regions": {
      "6c78808f-8237-41e5-8cac-c9a14284e3fb": {
       "attrs": {
        "height": 1,
        "width": 1,
        "x": 0,
        "y": 0
       },
       "content": {
        "cell": "70a1250d-caa4-4d53-81dc-0e2fb40142e0",
        "part": "whole"
       },
       "id": "6c78808f-8237-41e5-8cac-c9a14284e3fb"
      }
     }
    },
    "b199d567-d2dd-4c54-8bb2-68d6b2bf1c97": {
     "id": "b199d567-d2dd-4c54-8bb2-68d6b2bf1c97",
     "prev": "f4fefd9d-ab23-4264-8263-180d0aa29398",
     "regions": {}
    },
    "f4fefd9d-ab23-4264-8263-180d0aa29398": {
     "id": "f4fefd9d-ab23-4264-8263-180d0aa29398",
     "layout": "manual",
     "prev": "570b4fdd-7ac7-439c-af3c-d65248da2f7b",
     "regions": {
      "04e0e490-75dd-44b7-8df6-d438c7824b0f": {
       "attrs": {
        "height": 1,
        "pad": 0.01,
        "treemap:weight": 1,
        "width": 1,
        "x": 0,
        "y": 0
       },
       "id": "04e0e490-75dd-44b7-8df6-d438c7824b0f"
      },
      "f7979704-7056-4716-b045-e36730f01652": {
       "attrs": {
        "height": 0.8000000000000002,
        "width": 0.8,
        "x": 0.005484649879268745,
        "y": 0.2484036640987313
       },
       "id": "f7979704-7056-4716-b045-e36730f01652"
      }
     }
    }
   },
   "themes": {
    "default": "88c2ab06-da68-4a1f-95aa-b88a7a661c4c",
    "theme": {
     "3a980c5e-4951-492f-af31-cdedd2fc744e": {
      "backgrounds": {
       "dc7afa04-bf90-40b1-82a5-726e3cff5267": {
        "background-color": "31af15d2-7e15-44c5-ab5e-e04b16a89eff",
        "id": "dc7afa04-bf90-40b1-82a5-726e3cff5267"
       }
      },
      "id": "3a980c5e-4951-492f-af31-cdedd2fc744e",
      "palette": {
       "19cc588f-0593-49c9-9f4b-e4d7cc113b1c": {
        "id": "19cc588f-0593-49c9-9f4b-e4d7cc113b1c",
        "rgb": [
         252,
         252,
         252
        ]
       },
       "31af15d2-7e15-44c5-ab5e-e04b16a89eff": {
        "id": "31af15d2-7e15-44c5-ab5e-e04b16a89eff",
        "rgb": [
         68,
         68,
         68
        ]
       },
       "50f92c45-a630-455b-aec3-788680ec7410": {
        "id": "50f92c45-a630-455b-aec3-788680ec7410",
        "rgb": [
         197,
         226,
         245
        ]
       },
       "c5cc3653-2ee1-402a-aba2-7caae1da4f6c": {
        "id": "c5cc3653-2ee1-402a-aba2-7caae1da4f6c",
        "rgb": [
         43,
         126,
         184
        ]
       },
       "efa7f048-9acb-414c-8b04-a26811511a21": {
        "id": "efa7f048-9acb-414c-8b04-a26811511a21",
        "rgb": [
         25.118061674008803,
         73.60176211453744,
         107.4819383259912
        ]
       }
      },
      "rules": {
       "a": {
        "color": "19cc588f-0593-49c9-9f4b-e4d7cc113b1c"
       },
       "blockquote": {
        "color": "50f92c45-a630-455b-aec3-788680ec7410",
        "font-size": 3
       },
       "code": {
        "font-family": "Anonymous Pro"
       },
       "h1": {
        "color": "19cc588f-0593-49c9-9f4b-e4d7cc113b1c",
        "font-family": "Merriweather",
        "font-size": 8
       },
       "h2": {
        "color": "19cc588f-0593-49c9-9f4b-e4d7cc113b1c",
        "font-family": "Merriweather",
        "font-size": 6
       },
       "h3": {
        "color": "50f92c45-a630-455b-aec3-788680ec7410",
        "font-family": "Lato",
        "font-size": 5.5
       },
       "h4": {
        "color": "c5cc3653-2ee1-402a-aba2-7caae1da4f6c",
        "font-family": "Lato",
        "font-size": 5
       },
       "h5": {
        "font-family": "Lato"
       },
       "h6": {
        "font-family": "Lato"
       },
       "h7": {
        "font-family": "Lato"
       },
       "li": {
        "color": "50f92c45-a630-455b-aec3-788680ec7410",
        "font-size": 3.25
       },
       "pre": {
        "font-family": "Anonymous Pro",
        "font-size": 4
       }
      },
      "text-base": {
       "color": "19cc588f-0593-49c9-9f4b-e4d7cc113b1c",
       "font-family": "Lato",
       "font-size": 4
      }
     },
     "46146385-dac5-44b7-b817-52cc665abaf5": {
      "backgrounds": {
       "dc7afa04-bf90-40b1-82a5-726e3cff5267": {
        "background-color": "31af15d2-7e15-44c5-ab5e-e04b16a89eff",
        "id": "dc7afa04-bf90-40b1-82a5-726e3cff5267"
       }
      },
      "id": "46146385-dac5-44b7-b817-52cc665abaf5",
      "palette": {
       "19cc588f-0593-49c9-9f4b-e4d7cc113b1c": {
        "id": "19cc588f-0593-49c9-9f4b-e4d7cc113b1c",
        "rgb": [
         252,
         252,
         252
        ]
       },
       "31af15d2-7e15-44c5-ab5e-e04b16a89eff": {
        "id": "31af15d2-7e15-44c5-ab5e-e04b16a89eff",
        "rgb": [
         68,
         68,
         68
        ]
       },
       "50f92c45-a630-455b-aec3-788680ec7410": {
        "id": "50f92c45-a630-455b-aec3-788680ec7410",
        "rgb": [
         197,
         226,
         245
        ]
       },
       "c5cc3653-2ee1-402a-aba2-7caae1da4f6c": {
        "id": "c5cc3653-2ee1-402a-aba2-7caae1da4f6c",
        "rgb": [
         43,
         126,
         184
        ]
       },
       "efa7f048-9acb-414c-8b04-a26811511a21": {
        "id": "efa7f048-9acb-414c-8b04-a26811511a21",
        "rgb": [
         25.118061674008803,
         73.60176211453744,
         107.4819383259912
        ]
       }
      },
      "rules": {
       "a": {
        "color": "19cc588f-0593-49c9-9f4b-e4d7cc113b1c"
       },
       "blockquote": {
        "color": "50f92c45-a630-455b-aec3-788680ec7410",
        "font-size": 3
       },
       "code": {
        "font-family": "Anonymous Pro"
       },
       "h1": {
        "color": "19cc588f-0593-49c9-9f4b-e4d7cc113b1c",
        "font-family": "Merriweather",
        "font-size": 8
       },
       "h2": {
        "color": "19cc588f-0593-49c9-9f4b-e4d7cc113b1c",
        "font-family": "Merriweather",
        "font-size": 6
       },
       "h3": {
        "color": "50f92c45-a630-455b-aec3-788680ec7410",
        "font-family": "Lato",
        "font-size": 5.5
       },
       "h4": {
        "color": "c5cc3653-2ee1-402a-aba2-7caae1da4f6c",
        "font-family": "Lato",
        "font-size": 5
       },
       "h5": {
        "font-family": "Lato"
       },
       "h6": {
        "font-family": "Lato"
       },
       "h7": {
        "font-family": "Lato"
       },
       "li": {
        "color": "50f92c45-a630-455b-aec3-788680ec7410",
        "font-size": 3.25
       },
       "pre": {
        "font-family": "Anonymous Pro",
        "font-size": 4
       }
      },
      "text-base": {
       "color": "19cc588f-0593-49c9-9f4b-e4d7cc113b1c",
       "font-family": "Lato",
       "font-size": 4
      }
     },
     "7a665f34-4cab-4f83-a70c-607d765ba5f1": {
      "backgrounds": {
       "dc7afa04-bf90-40b1-82a5-726e3cff5267": {
        "background-color": "31af15d2-7e15-44c5-ab5e-e04b16a89eff",
        "id": "dc7afa04-bf90-40b1-82a5-726e3cff5267"
       }
      },
      "id": "7a665f34-4cab-4f83-a70c-607d765ba5f1",
      "palette": {
       "19cc588f-0593-49c9-9f4b-e4d7cc113b1c": {
        "id": "19cc588f-0593-49c9-9f4b-e4d7cc113b1c",
        "rgb": [
         252,
         252,
         252
        ]
       },
       "31af15d2-7e15-44c5-ab5e-e04b16a89eff": {
        "id": "31af15d2-7e15-44c5-ab5e-e04b16a89eff",
        "rgb": [
         68,
         68,
         68
        ]
       },
       "50f92c45-a630-455b-aec3-788680ec7410": {
        "id": "50f92c45-a630-455b-aec3-788680ec7410",
        "rgb": [
         197,
         226,
         245
        ]
       },
       "c5cc3653-2ee1-402a-aba2-7caae1da4f6c": {
        "id": "c5cc3653-2ee1-402a-aba2-7caae1da4f6c",
        "rgb": [
         43,
         126,
         184
        ]
       },
       "efa7f048-9acb-414c-8b04-a26811511a21": {
        "id": "efa7f048-9acb-414c-8b04-a26811511a21",
        "rgb": [
         25.118061674008803,
         73.60176211453744,
         107.4819383259912
        ]
       }
      },
      "rules": {
       "a": {
        "color": "19cc588f-0593-49c9-9f4b-e4d7cc113b1c"
       },
       "blockquote": {
        "color": "50f92c45-a630-455b-aec3-788680ec7410",
        "font-size": 3
       },
       "code": {
        "font-family": "Anonymous Pro"
       },
       "h1": {
        "color": "19cc588f-0593-49c9-9f4b-e4d7cc113b1c",
        "font-family": "Merriweather",
        "font-size": 8
       },
       "h2": {
        "color": "19cc588f-0593-49c9-9f4b-e4d7cc113b1c",
        "font-family": "Merriweather",
        "font-size": 6
       },
       "h3": {
        "color": "50f92c45-a630-455b-aec3-788680ec7410",
        "font-family": "Lato",
        "font-size": 5.5
       },
       "h4": {
        "color": "c5cc3653-2ee1-402a-aba2-7caae1da4f6c",
        "font-family": "Lato",
        "font-size": 5
       },
       "h5": {
        "font-family": "Lato"
       },
       "h6": {
        "font-family": "Lato"
       },
       "h7": {
        "font-family": "Lato"
       },
       "li": {
        "color": "50f92c45-a630-455b-aec3-788680ec7410",
        "font-size": 3.25
       },
       "pre": {
        "font-family": "Anonymous Pro",
        "font-size": 4
       }
      },
      "text-base": {
       "color": "19cc588f-0593-49c9-9f4b-e4d7cc113b1c",
       "font-family": "Lato",
       "font-size": 4
      }
     },
     "88c2ab06-da68-4a1f-95aa-b88a7a661c4c": {
      "id": "88c2ab06-da68-4a1f-95aa-b88a7a661c4c",
      "palette": {
       "19cc588f-0593-49c9-9f4b-e4d7cc113b1c": {
        "id": "19cc588f-0593-49c9-9f4b-e4d7cc113b1c",
        "rgb": [
         252,
         252,
         252
        ]
       },
       "31af15d2-7e15-44c5-ab5e-e04b16a89eff": {
        "id": "31af15d2-7e15-44c5-ab5e-e04b16a89eff",
        "rgb": [
         68,
         68,
         68
        ]
       },
       "50f92c45-a630-455b-aec3-788680ec7410": {
        "id": "50f92c45-a630-455b-aec3-788680ec7410",
        "rgb": [
         155,
         177,
         192
        ]
       },
       "c5cc3653-2ee1-402a-aba2-7caae1da4f6c": {
        "id": "c5cc3653-2ee1-402a-aba2-7caae1da4f6c",
        "rgb": [
         43,
         126,
         184
        ]
       },
       "efa7f048-9acb-414c-8b04-a26811511a21": {
        "id": "efa7f048-9acb-414c-8b04-a26811511a21",
        "rgb": [
         25.118061674008803,
         73.60176211453744,
         107.4819383259912
        ]
       }
      },
      "rules": {
       "blockquote": {
        "color": "50f92c45-a630-455b-aec3-788680ec7410"
       },
       "code": {
        "font-family": "Anonymous Pro"
       },
       "h1": {
        "color": "c5cc3653-2ee1-402a-aba2-7caae1da4f6c",
        "font-family": "Lato",
        "font-size": 8
       },
       "h2": {
        "color": "c5cc3653-2ee1-402a-aba2-7caae1da4f6c",
        "font-family": "Lato",
        "font-size": 6
       },
       "h3": {
        "color": "50f92c45-a630-455b-aec3-788680ec7410",
        "font-family": "Lato",
        "font-size": 5.5
       },
       "h4": {
        "color": "c5cc3653-2ee1-402a-aba2-7caae1da4f6c",
        "font-family": "Lato",
        "font-size": 5
       },
       "h5": {
        "font-family": "Lato"
       },
       "h6": {
        "font-family": "Lato"
       },
       "h7": {
        "font-family": "Lato"
       },
       "pre": {
        "font-family": "Anonymous Pro",
        "font-size": 4
       }
      },
      "text-base": {
       "font-family": "Merriweather",
       "font-size": 4
      }
     }
    }
   }
  }
 },
 "nbformat": 4,
 "nbformat_minor": 0
}
